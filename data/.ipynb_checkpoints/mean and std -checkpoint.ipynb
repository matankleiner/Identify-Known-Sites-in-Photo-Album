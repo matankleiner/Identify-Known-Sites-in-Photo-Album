{
 "cells": [
  {
   "cell_type": "code",
   "execution_count": 3,
   "metadata": {},
   "outputs": [],
   "source": [
    "# imports for code \n",
    "import numpy as np\n",
    "import pandas as pd\n",
    "import cv2 "
   ]
  },
  {
   "cell_type": "code",
   "execution_count": 4,
   "metadata": {},
   "outputs": [],
   "source": [
    "# load the data csv files as data frame \n",
    "test_df = pd.read_csv(\"C:/Users/Matan/Desktop/projectB/data/2019/recognition_solution_v2.1.csv\") # one should change this path to his \n",
    "train_df = pd.read_csv(\"C:/Users/Matan/Desktop/projectB/data/train/train.csv\") \n"
   ]
  },
  {
   "cell_type": "code",
   "execution_count": 5,
   "metadata": {},
   "outputs": [],
   "source": [
    "# load image path and labels as a dictionary and then convet to dataframe \n",
    "\n",
    "train_path_label_dict = {'image': [], 'target': []}\n",
    "for i in range(train_df.shape[0]):\n",
    "    train_path_label_dict['image'].append(\n",
    "        \"D:/dataset/train\" + '/' + # one should change the path to his\n",
    "        train_df['id'][i][0] + '/' + \n",
    "        train_df['id'][i][1]+ '/' +\n",
    "        train_df['id'][i][2]+ '/' +\n",
    "        train_df['id'][i] + \".jpg\")\n",
    "    train_path_label_dict['target'].append(train_df['landmark_id'][i])\n",
    "\n",
    "train_path_label_df = pd.DataFrame(train_path_label_dict)\n",
    "\n",
    "test_path_label_dict = {'image': [], 'target': []}\n",
    "for i in range(test_df.shape[0]):\n",
    "    test_path_label_dict['image'].append(\n",
    "        \"D:/dataset/test\" + '/' + # one should change the path to his \n",
    "        test_df['id'][i][0] + '/' + \n",
    "        test_df['id'][i][1] + '/' +\n",
    "        test_df['id'][i][2] + '/' +\n",
    "        test_df['id'][i] + \".jpg\")\n",
    "    test_path_label_dict['target'].append(test_df['landmarks'][i])\n",
    "\n",
    "test_path_label_df = pd.DataFrame(test_path_label_dict)\n",
    "\n"
   ]
  },
  {
   "cell_type": "code",
   "execution_count": 6,
   "metadata": {},
   "outputs": [
    {
     "name": "stdout",
     "output_type": "stream",
     "text": [
      "The mean of the train set images is: [114.42862771 112.41868423 117.66847553]\n",
      "The std of the train set images is: [72.36518487 66.62681711 60.0158782 ]\n"
     ]
    }
   ],
   "source": [
    "N = train_path_label_df['target'].shape[0]\n",
    "img = [0] * 10\n",
    "mean_vector = [0] * 10 \n",
    "std_vector = [0] * 10\n",
    "\n",
    "for i in range(10):\n",
    "    img[i] = cv2.imread(train_path_label_df['image'].values[i])\n",
    "    mean_vector[i] = np.mean(img[i], axis=(0,1))\n",
    "    std_vector[i] = np.std(img[i], axis=(0,1))\n",
    "    \n",
    "mean_images = np.mean(mean_vector, axis=0)\n",
    "std_images = np.mean(std_vector, axis=0)\n",
    "print(\"The mean of the train set images is: {}\".format(mean_images))\n",
    "print(\"The std of the train set images is: {}\".format(std_images))"
   ]
  }
 ],
 "metadata": {
  "kernelspec": {
   "display_name": "Python 3",
   "language": "python",
   "name": "python3"
  },
  "language_info": {
   "codemirror_mode": {
    "name": "ipython",
    "version": 3
   },
   "file_extension": ".py",
   "mimetype": "text/x-python",
   "name": "python",
   "nbconvert_exporter": "python",
   "pygments_lexer": "ipython3",
   "version": "3.8.2"
  }
 },
 "nbformat": 4,
 "nbformat_minor": 4
}
