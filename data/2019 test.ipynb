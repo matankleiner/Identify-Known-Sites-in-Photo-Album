{
 "cells": [
  {
   "cell_type": "markdown",
   "metadata": {},
   "source": [
    "This notebook is used as a \"first look\" of the kaggle competition [\"Google Landmark Recognition 2019\"](https://www.kaggle.com/c/landmark-recognition-2019) test set. \n",
    "\n",
    "Because the available test set of the 2020 comeptition is witouth its ground truth table we will use 2019 competition test set to evaluate our algorithm. \n",
    "\n",
    "The 2019 competition test set was released as CSV file with three columns: id (16-character string), landmarks (space-separated list of integer landmark IDs, or empty if no landmark from the dataset is depicted) and Usage (either \"Public\" or \"Private\", referring to which subset the image belongs to).\n",
    "\n",
    "It can be found [here.](https://github.com/cvdfoundation/google-landmark)"
   ]
  },
  {
   "cell_type": "code",
   "execution_count": 2,
   "metadata": {},
   "outputs": [],
   "source": [
    "# imports for code \n",
    "import pandas as pd\n",
    "import seaborn as sns\n",
    "import matplotlib.pyplot as plt"
   ]
  },
  {
   "cell_type": "code",
   "execution_count": 3,
   "metadata": {},
   "outputs": [
    {
     "data": {
      "text/html": [
       "<div>\n",
       "<style scoped>\n",
       "    .dataframe tbody tr th:only-of-type {\n",
       "        vertical-align: middle;\n",
       "    }\n",
       "\n",
       "    .dataframe tbody tr th {\n",
       "        vertical-align: top;\n",
       "    }\n",
       "\n",
       "    .dataframe thead th {\n",
       "        text-align: right;\n",
       "    }\n",
       "</style>\n",
       "<table border=\"1\" class=\"dataframe\">\n",
       "  <thead>\n",
       "    <tr style=\"text-align: right;\">\n",
       "      <th></th>\n",
       "      <th>id</th>\n",
       "      <th>landmarks</th>\n",
       "      <th>Usage</th>\n",
       "    </tr>\n",
       "  </thead>\n",
       "  <tbody>\n",
       "    <tr>\n",
       "      <th>0</th>\n",
       "      <td>e324e0f3e6d9e504</td>\n",
       "      <td>NaN</td>\n",
       "      <td>Private</td>\n",
       "    </tr>\n",
       "    <tr>\n",
       "      <th>1</th>\n",
       "      <td>d9e17c5f3e0c47b3</td>\n",
       "      <td>NaN</td>\n",
       "      <td>Private</td>\n",
       "    </tr>\n",
       "    <tr>\n",
       "      <th>2</th>\n",
       "      <td>1a748a755ed67512</td>\n",
       "      <td>NaN</td>\n",
       "      <td>Public</td>\n",
       "    </tr>\n",
       "    <tr>\n",
       "      <th>3</th>\n",
       "      <td>537bf9bdfccdafea</td>\n",
       "      <td>NaN</td>\n",
       "      <td>Private</td>\n",
       "    </tr>\n",
       "    <tr>\n",
       "      <th>4</th>\n",
       "      <td>13f4c974274ee08b</td>\n",
       "      <td>NaN</td>\n",
       "      <td>Private</td>\n",
       "    </tr>\n",
       "    <tr>\n",
       "      <th>...</th>\n",
       "      <td>...</td>\n",
       "      <td>...</td>\n",
       "      <td>...</td>\n",
       "    </tr>\n",
       "    <tr>\n",
       "      <th>117572</th>\n",
       "      <td>e351c3e672c25fbd</td>\n",
       "      <td>190441</td>\n",
       "      <td>Public</td>\n",
       "    </tr>\n",
       "    <tr>\n",
       "      <th>117573</th>\n",
       "      <td>5426472625271a4d</td>\n",
       "      <td>NaN</td>\n",
       "      <td>Public</td>\n",
       "    </tr>\n",
       "    <tr>\n",
       "      <th>117574</th>\n",
       "      <td>7b6a585405978398</td>\n",
       "      <td>NaN</td>\n",
       "      <td>Public</td>\n",
       "    </tr>\n",
       "    <tr>\n",
       "      <th>117575</th>\n",
       "      <td>d885235ba249cf5d</td>\n",
       "      <td>NaN</td>\n",
       "      <td>Public</td>\n",
       "    </tr>\n",
       "    <tr>\n",
       "      <th>117576</th>\n",
       "      <td>c7f657e8d0f7fafb</td>\n",
       "      <td>NaN</td>\n",
       "      <td>Private</td>\n",
       "    </tr>\n",
       "  </tbody>\n",
       "</table>\n",
       "<p>117577 rows × 3 columns</p>\n",
       "</div>"
      ],
      "text/plain": [
       "                      id landmarks    Usage\n",
       "0       e324e0f3e6d9e504       NaN  Private\n",
       "1       d9e17c5f3e0c47b3       NaN  Private\n",
       "2       1a748a755ed67512       NaN   Public\n",
       "3       537bf9bdfccdafea       NaN  Private\n",
       "4       13f4c974274ee08b       NaN  Private\n",
       "...                  ...       ...      ...\n",
       "117572  e351c3e672c25fbd    190441   Public\n",
       "117573  5426472625271a4d       NaN   Public\n",
       "117574  7b6a585405978398       NaN   Public\n",
       "117575  d885235ba249cf5d       NaN   Public\n",
       "117576  c7f657e8d0f7fafb       NaN  Private\n",
       "\n",
       "[117577 rows x 3 columns]"
      ]
     },
     "execution_count": 3,
     "metadata": {},
     "output_type": "execute_result"
    }
   ],
   "source": [
    "# load the data as pandas data frame \n",
    "df = pd.read_csv(\"C:/Users/Matan/Desktop/projectB/data/2019/recognition_solution_v2.1.csv\") # one should change this path to his \n",
    "df"
   ]
  },
  {
   "cell_type": "markdown",
   "metadata": {},
   "source": [
    "As we can see there are a lot of NaN values in the landmarks column. That mean that a lot of the objects in the test set are not landmarks but non-landmarks.\n",
    "\n",
    "We will look now only on the landmarks inside the test set. "
   ]
  },
  {
   "cell_type": "code",
   "execution_count": 4,
   "metadata": {},
   "outputs": [
    {
     "data": {
      "text/html": [
       "<div>\n",
       "<style scoped>\n",
       "    .dataframe tbody tr th:only-of-type {\n",
       "        vertical-align: middle;\n",
       "    }\n",
       "\n",
       "    .dataframe tbody tr th {\n",
       "        vertical-align: top;\n",
       "    }\n",
       "\n",
       "    .dataframe thead th {\n",
       "        text-align: right;\n",
       "    }\n",
       "</style>\n",
       "<table border=\"1\" class=\"dataframe\">\n",
       "  <thead>\n",
       "    <tr style=\"text-align: right;\">\n",
       "      <th></th>\n",
       "      <th>id</th>\n",
       "      <th>landmarks</th>\n",
       "      <th>Usage</th>\n",
       "    </tr>\n",
       "  </thead>\n",
       "  <tbody>\n",
       "    <tr>\n",
       "      <th>112</th>\n",
       "      <td>ed85edf01da02f26</td>\n",
       "      <td>179171</td>\n",
       "      <td>Public</td>\n",
       "    </tr>\n",
       "    <tr>\n",
       "      <th>155</th>\n",
       "      <td>4d5d0e6264e6c7e0</td>\n",
       "      <td>124703</td>\n",
       "      <td>Public</td>\n",
       "    </tr>\n",
       "    <tr>\n",
       "      <th>182</th>\n",
       "      <td>e153105026e18260</td>\n",
       "      <td>150977</td>\n",
       "      <td>Public</td>\n",
       "    </tr>\n",
       "    <tr>\n",
       "      <th>234</th>\n",
       "      <td>db635e33c17229bb</td>\n",
       "      <td>92607</td>\n",
       "      <td>Private</td>\n",
       "    </tr>\n",
       "    <tr>\n",
       "      <th>371</th>\n",
       "      <td>03b1294a0fa46763</td>\n",
       "      <td>184268</td>\n",
       "      <td>Private</td>\n",
       "    </tr>\n",
       "    <tr>\n",
       "      <th>...</th>\n",
       "      <td>...</td>\n",
       "      <td>...</td>\n",
       "      <td>...</td>\n",
       "    </tr>\n",
       "    <tr>\n",
       "      <th>117154</th>\n",
       "      <td>4e4e7fdca971442f</td>\n",
       "      <td>95197</td>\n",
       "      <td>Private</td>\n",
       "    </tr>\n",
       "    <tr>\n",
       "      <th>117242</th>\n",
       "      <td>efd80af423defb09</td>\n",
       "      <td>162786</td>\n",
       "      <td>Public</td>\n",
       "    </tr>\n",
       "    <tr>\n",
       "      <th>117264</th>\n",
       "      <td>90e066e0d0ac2827</td>\n",
       "      <td>188823</td>\n",
       "      <td>Private</td>\n",
       "    </tr>\n",
       "    <tr>\n",
       "      <th>117403</th>\n",
       "      <td>ee95080bf6187d9a</td>\n",
       "      <td>127232</td>\n",
       "      <td>Public</td>\n",
       "    </tr>\n",
       "    <tr>\n",
       "      <th>117572</th>\n",
       "      <td>e351c3e672c25fbd</td>\n",
       "      <td>190441</td>\n",
       "      <td>Public</td>\n",
       "    </tr>\n",
       "  </tbody>\n",
       "</table>\n",
       "<p>1972 rows × 3 columns</p>\n",
       "</div>"
      ],
      "text/plain": [
       "                      id landmarks    Usage\n",
       "112     ed85edf01da02f26    179171   Public\n",
       "155     4d5d0e6264e6c7e0    124703   Public\n",
       "182     e153105026e18260    150977   Public\n",
       "234     db635e33c17229bb     92607  Private\n",
       "371     03b1294a0fa46763    184268  Private\n",
       "...                  ...       ...      ...\n",
       "117154  4e4e7fdca971442f     95197  Private\n",
       "117242  efd80af423defb09    162786   Public\n",
       "117264  90e066e0d0ac2827    188823  Private\n",
       "117403  ee95080bf6187d9a    127232   Public\n",
       "117572  e351c3e672c25fbd    190441   Public\n",
       "\n",
       "[1972 rows x 3 columns]"
      ]
     },
     "execution_count": 4,
     "metadata": {},
     "output_type": "execute_result"
    }
   ],
   "source": [
    "df_no_NaN = df.dropna()\n",
    "df_no_NaN"
   ]
  },
  {
   "cell_type": "markdown",
   "metadata": {},
   "source": [
    "As we can see, most of the objects in the test set are non-landmarks.  \n",
    "\n",
    "We'll now check few of the test set properties: "
   ]
  },
  {
   "cell_type": "code",
   "execution_count": 5,
   "metadata": {},
   "outputs": [
    {
     "name": "stdout",
     "output_type": "stream",
     "text": [
      "number of ids is: 117577\n",
      "\n",
      "number of landmarks ids is: 1972\n",
      "\n",
      "number of unique values in landmarks column is: 849\n"
     ]
    }
   ],
   "source": [
    "print(\"number of ids is: {}\" .format(df['id'].size))\n",
    "print(\"\\nnumber of landmarks ids is: {}\" .format(df_no_NaN['id'].size))\n",
    "print(\"\\nnumber of unique values in landmarks column is: {}\" .format(df['landmarks'].nunique()))"
   ]
  },
  {
   "cell_type": "markdown",
   "metadata": {},
   "source": [
    "As we can see, the test set composed out of **117,577 pictures** that divided into **849 classes**. \n",
    "Only **1972 pictures** out of the 117,577 pictures in the test set are actually landmarkd, e.g only **1.67 %**  "
   ]
  },
  {
   "cell_type": "markdown",
   "metadata": {},
   "source": [
    "We would like to look at the different classes in the test set, we we'll start with the top classes: "
   ]
  },
  {
   "cell_type": "code",
   "execution_count": 9,
   "metadata": {},
   "outputs": [
    {
     "name": "stdout",
     "output_type": "stream",
     "text": [
      "top 10 classes:\n",
      "\n",
      "114046 171629    13\n",
      "158276           12\n",
      "100782           11\n",
      "556              10\n",
      "11868            10\n",
      "189289           10\n",
      "74275            10\n",
      "107743           10\n",
      "31765            10\n",
      "149453           10\n",
      "Name: landmarks, dtype: int64\n"
     ]
    }
   ],
   "source": [
    "print(\"top 10 classes:\\n\")\n",
    "print(df_no_NaN['landmarks'].value_counts().head(10))"
   ]
  },
  {
   "cell_type": "markdown",
   "metadata": {},
   "source": [
    "As we can see from the top result, some images can relate to more than one class. \n",
    "We would like to know how many images can realte to more than one "
   ]
  },
  {
   "cell_type": "code",
   "execution_count": 41,
   "metadata": {},
   "outputs": [
    {
     "data": {
      "text/plain": [
       "(1972, 4)"
      ]
     },
     "execution_count": 41,
     "metadata": {},
     "output_type": "execute_result"
    }
   ],
   "source": [
    "# We'll creata new data frame thus if one image relate to more then one class we'll split the classes to other columns.   \n",
    "new_df = df_no_NaN[\"landmarks\"].str.split(\" \", n = 10, expand = True) \n",
    "new_df.shape"
   ]
  },
  {
   "cell_type": "markdown",
   "metadata": {},
   "source": [
    "As we can see, one image can relate to different classes (up to 4). "
   ]
  },
  {
   "cell_type": "code",
   "execution_count": 71,
   "metadata": {},
   "outputs": [
    {
     "name": "stdout",
     "output_type": "stream",
     "text": [
      "The classes that appear in the test set, seperated:\n"
     ]
    },
    {
     "data": {
      "text/html": [
       "<div>\n",
       "<style scoped>\n",
       "    .dataframe tbody tr th:only-of-type {\n",
       "        vertical-align: middle;\n",
       "    }\n",
       "\n",
       "    .dataframe tbody tr th {\n",
       "        vertical-align: top;\n",
       "    }\n",
       "\n",
       "    .dataframe thead th {\n",
       "        text-align: right;\n",
       "    }\n",
       "</style>\n",
       "<table border=\"1\" class=\"dataframe\">\n",
       "  <thead>\n",
       "    <tr style=\"text-align: right;\">\n",
       "      <th></th>\n",
       "      <th>landmarks</th>\n",
       "    </tr>\n",
       "  </thead>\n",
       "  <tbody>\n",
       "    <tr>\n",
       "      <th>112</th>\n",
       "      <td>179171</td>\n",
       "    </tr>\n",
       "    <tr>\n",
       "      <th>155</th>\n",
       "      <td>124703</td>\n",
       "    </tr>\n",
       "    <tr>\n",
       "      <th>182</th>\n",
       "      <td>150977</td>\n",
       "    </tr>\n",
       "    <tr>\n",
       "      <th>234</th>\n",
       "      <td>92607</td>\n",
       "    </tr>\n",
       "    <tr>\n",
       "      <th>371</th>\n",
       "      <td>184268</td>\n",
       "    </tr>\n",
       "    <tr>\n",
       "      <th>...</th>\n",
       "      <td>...</td>\n",
       "    </tr>\n",
       "    <tr>\n",
       "      <th>103588</th>\n",
       "      <td>52006</td>\n",
       "    </tr>\n",
       "    <tr>\n",
       "      <th>112241</th>\n",
       "      <td>76017</td>\n",
       "    </tr>\n",
       "    <tr>\n",
       "      <th>112419</th>\n",
       "      <td>52006</td>\n",
       "    </tr>\n",
       "    <tr>\n",
       "      <th>115301</th>\n",
       "      <td>48571</td>\n",
       "    </tr>\n",
       "    <tr>\n",
       "      <th>15416</th>\n",
       "      <td>9463</td>\n",
       "    </tr>\n",
       "  </tbody>\n",
       "</table>\n",
       "<p>2314 rows × 1 columns</p>\n",
       "</div>"
      ],
      "text/plain": [
       "       landmarks\n",
       "112       179171\n",
       "155       124703\n",
       "182       150977\n",
       "234        92607\n",
       "371       184268\n",
       "...          ...\n",
       "103588     52006\n",
       "112241     76017\n",
       "112419     52006\n",
       "115301     48571\n",
       "15416       9463\n",
       "\n",
       "[2314 rows x 1 columns]"
      ]
     },
     "execution_count": 71,
     "metadata": {},
     "output_type": "execute_result"
    }
   ],
   "source": [
    "# now we'll concat the four columns to 1 and drop the NaN\n",
    "concat_df = pd.concat([new_df[0], new_df[1], new_df[2], new_df[3]]).dropna()\n",
    "concat_df = concat_df.to_frame('landmarks')\n",
    "print(\"The classes that appear in the test set, seperated:\")\n",
    "concat_df"
   ]
  },
  {
   "cell_type": "code",
   "execution_count": 91,
   "metadata": {},
   "outputs": [
    {
     "name": "stdout",
     "output_type": "stream",
     "text": [
      "100782    16\n",
      "185558    16\n",
      "114046    15\n",
      "171629    13\n",
      "47378     12\n",
      "121008    12\n",
      "132969    12\n",
      "158276    12\n",
      "178061    11\n",
      "146388    11\n",
      "Name: landmarks, dtype: int64\n",
      "\n",
      "number of unique values in landmarks column is: 852\n"
     ]
    }
   ],
   "source": [
    "print(concat_df['landmarks'].value_counts().head(10))\n",
    "\n",
    "print(\"\\nnumber of unique values in landmarks column is: {}\" .format(concat_df['landmarks'].nunique()))"
   ]
  },
  {
   "cell_type": "markdown",
   "metadata": {},
   "source": [
    "As we can see from the above, when we first split and then concatenate the landmarks coulmn, it changed the amount of recurrence of some classes. It also changed the amount of classes to **852 classes**. "
   ]
  },
  {
   "cell_type": "markdown",
   "metadata": {},
   "source": [
    "We would like to plot the classes histogram:"
   ]
  },
  {
   "cell_type": "code",
   "execution_count": 105,
   "metadata": {},
   "outputs": [
    {
     "data": {
      "text/plain": [
       "<Figure size 432x288 with 0 Axes>"
      ]
     },
     "metadata": {},
     "output_type": "display_data"
    },
    {
     "data": {
      "image/png": "[encoded data removed]",
      "text/plain": [
       "<Figure size 432x288 with 1 Axes>"
      ]
     },
     "metadata": {
      "needs_background": "light"
     },
     "output_type": "display_data"
    }
   ],
   "source": [
    "concat_df_float = concat_df.astype(float)\n",
    "fig = plt.figure()\n",
    "ax = concat_df_float.plot.hist(bins=852, grid=False, rwidth=0.1)\n",
    "ax.set_xlabel(\"Class Number\", labelpad=20, weight='bold', size=12)\n",
    "ax.set_ylabel(\"Number of Objects\", labelpad=20, weight='bold', size=12)\n",
    "ax.set_title(\"Histogram of Objects Distribution\")\n",
    "plt.show()"
   ]
  },
  {
   "cell_type": "markdown",
   "metadata": {},
   "source": [
    "As we can see from the histogram, the classes are scattered across the x axis.  "
   ]
  },
  {
   "cell_type": "markdown",
   "metadata": {},
   "source": [
    "We would like to inspect the top and bottom classes more carefulley:"
   ]
  },
  {
   "cell_type": "code",
   "execution_count": 113,
   "metadata": {},
   "outputs": [
    {
     "data": {
      "image/png": "[encoded data removed]",
      "text/plain": [
       "<Figure size 864x576 with 1 Axes>"
      ]
     },
     "metadata": {
      "needs_background": "light"
     },
     "output_type": "display_data"
    }
   ],
   "source": [
    "fig2 = plt.figure(figsize = (12,8))\n",
    "sns.countplot(x=concat_df.landmarks, order = concat_df['landmarks'].value_counts().head(50).index)\n",
    "plt.xlabel(\"Class Number\")\n",
    "plt.ylabel(\"Number of Objects\")\n",
    "plt.title(\"Top 50 Classes in the Test Set\")\n",
    "plt.xticks(rotation = 90)\n",
    "plt.show()"
   ]
  },
  {
   "cell_type": "code",
   "execution_count": 114,
   "metadata": {},
   "outputs": [
    {
     "data": {
      "image/png": "[encoded data removed]",
      "text/plain": [
       "<Figure size 864x576 with 1 Axes>"
      ]
     },
     "metadata": {
      "needs_background": "light"
     },
     "output_type": "display_data"
    }
   ],
   "source": [
    "fig2 = plt.figure(figsize = (12,8))\n",
    "sns.countplot(x=concat_df.landmarks, order = concat_df['landmarks'].value_counts().tail(50).index)\n",
    "plt.xlabel(\"Class Number\")\n",
    "plt.ylabel(\"Number of Objects\")\n",
    "plt.title(\"Bottom 50 Classes in the Test Set\")\n",
    "plt.xticks(rotation = 90)\n",
    "plt.show()"
   ]
  },
  {
   "cell_type": "markdown",
   "metadata": {},
   "source": [
    "As we can see from the above, the top classes don't appear very often in the test set and a lot of classes appear only once in the train set. "
   ]
  },
  {
   "cell_type": "markdown",
   "metadata": {},
   "source": [
    "This is the 2019 test set we will use to evaluate our algorithm.  "
   ]
  }
 ],
 "metadata": {
  "kernelspec": {
   "display_name": "Python 3",
   "language": "python",
   "name": "python3"
  },
  "language_info": {
   "codemirror_mode": {
    "name": "ipython",
    "version": 3
   },
   "file_extension": ".py",
   "mimetype": "text/x-python",
   "name": "python",
   "nbconvert_exporter": "python",
   "pygments_lexer": "ipython3",
   "version": "3.8.2"
  }
 },
 "nbformat": 4,
 "nbformat_minor": 4
}
