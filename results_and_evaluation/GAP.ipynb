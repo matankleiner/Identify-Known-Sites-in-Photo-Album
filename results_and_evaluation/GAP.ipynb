{
 "cells": [
  {
   "cell_type": "markdown",
   "metadata": {},
   "source": [
    "# Evaluation with GAP \n",
    "\n",
    "We'll also evaluate our success with the GAP metric which is the [official metric for the comeptition](https://www.kaggle.com/c/landmark-recognition-2020/overview/evaluation). However, we'll check our success only on the landmarks and not on the whole dataset. "
   ]
  },
  {
   "cell_type": "code",
   "execution_count": 55,
   "metadata": {},
   "outputs": [],
   "source": [
    "# imports for code \n",
    "import pandas as pd\n",
    "import numpy as np "
   ]
  },
  {
   "cell_type": "code",
   "execution_count": 56,
   "metadata": {},
   "outputs": [],
   "source": [
    "# load the following csv files as dataframe \n",
    "url_train = 'https://raw.githubusercontent.com/matankleiner/Identify-Known-Sites-in-Photo-Album/master/data/train/train.csv' \n",
    "url_test ='https://raw.githubusercontent.com/matankleiner/Identify-Known-Sites-in-Photo-Album/master/data/test/test.csv'\n",
    "url_test_more_classes1 = 'https://raw.githubusercontent.com/matankleiner/Identify-Known-Sites-in-Photo-Album/master/data/test/more_classes/test_more_classes1.csv'\n",
    "url_test_more_classes2 = 'https://raw.githubusercontent.com/matankleiner/Identify-Known-Sites-in-Photo-Album/master/data/test/more_classes/test_more_classes2.csv'\n",
    "url_test_more_classes3 = 'https://raw.githubusercontent.com/matankleiner/Identify-Known-Sites-in-Photo-Album/master/data/test/more_classes/test_more_classes3.csv'\n",
    "#url_nn_3 =\n",
    "url_nn_5 = 'https://raw.githubusercontent.com/matankleiner/Identify-Known-Sites-in-Photo-Album/master/feature_extraction/results_csv/nearest_neighbor_embedded_test.csv'\n",
    "#url_nn_7 =\n",
    "\n",
    "train_df = pd.read_csv(url_train)\n",
    "test_df = pd.read_csv(url_test) \n",
    "test_more_classes1_df = pd.read_csv(url_test_more_classes1)\n",
    "test_more_classes2_df = pd.read_csv(url_test_more_classes2)\n",
    "test_more_classes3_df = pd.read_csv(url_test_more_classes3)\n",
    "nn_3_df = pd.read_csv(url_nn_3)\n",
    "nn_5_df = pd.read_csv(url_nn_5)\n",
    "nn_7_df = pd.read_csv(url_nn_7)"
   ]
  },
  {
   "cell_type": "code",
   "execution_count": 59,
   "metadata": {},
   "outputs": [],
   "source": [
    "def change_df(df): \n",
    "    \"\"\"\n",
    "    Changing the dataframe so it will be easier to work with. \n",
    "    Param: \n",
    "        df (pd.DataFrame): The dataframe to change \n",
    "    Return: \n",
    "        df (pd.DataFrame): The chnaged dataframe \n",
    "    \"\"\"\n",
    "    df = df.drop(\"Unnamed: 0\", axis=1)\n",
    "    df.insert(0, \"id\", test_df[\"id\"], True) \n",
    "    return df \n",
    "\n",
    "nn_3_df = change_df(nn_3_df)\n",
    "nn_5_df = change_df(nn_5_df)\n",
    "nn_7_df = change_df(nn_7_df)"
   ]
  },
  {
   "cell_type": "code",
   "execution_count": 60,
   "metadata": {},
   "outputs": [],
   "source": [
    "def train_indx_to_class(nn_df, train_df):\n",
    "    \"\"\"\n",
    "    The nn_df hold the index of the matching neighbor in the train set, this function replace it with the matching class \n",
    "    Param: \n",
    "        nn_df (DataFrame): The nearest neighbors dataframe\n",
    "        train_df (DataFrame): The train set dataframe\n",
    "    Return: \n",
    "        nn_df (DataFrame): Thenearest neighbors dataframe, each column k [k is in (0,1,2...K-1)] contain the\n",
    "                           class of the (k+1) nearest neighbor\n",
    "    \"\"\"\n",
    "    col_to_replace0 = train_df.loc[nn_df[\"0\"]][\"landmark_id\"]\n",
    "    nn_df['0'] = col_to_replace0.values\n",
    "    col_to_replace1 = train_df.loc[nn_df[\"1\"]][\"landmark_id\"]\n",
    "    nn_df['1'] = col_to_replace1.values\n",
    "    col_to_replace2 = train_df.loc[nn_df[\"2\"]][\"landmark_id\"]\n",
    "    nn_df['2'] = col_to_replace2.values\n",
    "    col_to_replace3 = train_df.loc[nn_df[\"3\"]][\"landmark_id\"]\n",
    "    nn_df['3'] = col_to_replace3.values\n",
    "    col_to_replace4 = train_df.loc[nn_df[\"4\"]][\"landmark_id\"]\n",
    "    nn_df['4'] = col_to_replace4.values\n",
    "    \n",
    "    return nn_df \n",
    "\n",
    "nn_3_df = train_indx_to_class(nn_3_df, train_df)\n",
    "nn_5_df = train_indx_to_class(nn_5_df, train_df)\n",
    "nn_7_df = train_indx_to_class(nn_7_df, train_df)"
   ]
  },
  {
   "cell_type": "code",
   "execution_count": 62,
   "metadata": {},
   "outputs": [],
   "source": [
    "# create a series of all the indices where there is a landmark \n",
    "landmark_inidices = test_df['landmarks'] != 0 \n",
    "landmark_inidices = landmark_inidices[landmark_inidices].index\n",
    "\n",
    "# create a smaller dataframe of the test set that made out only of the landmarks \n",
    "landmarks_df = test_df.loc[landmark_inidices]\n",
    "landmarks_df = landmarks_df.reset_index()\n",
    "landmarks_more_classes1_df = test_more_classes1_df.loc[landmark_inidices]\n",
    "landmarks_more_classes1_df = landmarks_more_classes1_df.reset_index()\n",
    "landmarks_more_classes2_df = test_more_classes2_df.loc[landmark_inidices]\n",
    "landmarks_more_classes2_df = landmarks_more_classes2_df.reset_index()\n",
    "landmarks_more_classes3_df = test_more_classes3_df.loc[landmark_inidices]\n",
    "landmarks_more_classes3_df = landmarks_more_classes3_df.reset_index()\n",
    "\n",
    "nn_landmarks_df = nn_df.loc[landmark_inidices] \n",
    "nn_landmarks_df = nn_landmarks_df.reset_index()\n",
    "nn_landmarks_df = nn_landmarks_df.drop(\"index\", axis=1)\n",
    "\n"
   ]
  },
  {
   "cell_type": "code",
   "execution_count": 63,
   "metadata": {},
   "outputs": [
    {
     "name": "stdout",
     "output_type": "stream",
     "text": [
      "The GAP score for K=5 nearest neighbors is 0.11368680641183605\n"
     ]
    }
   ],
   "source": [
    "def GAP(N, K, nn_landmarks_df, ground_truth_df):\n",
    "    \"\"\"\n",
    "    Calculating the GAP metric \n",
    "    Param: \n",
    "        N (int): Number of values in the test set \n",
    "        K (int): Number of neighbors \n",
    "        nn_ladnamrk_df (DataFrame): A dataframe of the nearest neighbors' class\n",
    "        ground_truth_df (DataFrame): The true class of each item from the test set\n",
    "    Return: \n",
    "        GAP_score (int): The calculated GAP_score \n",
    "    \"\"\"\n",
    "    GAP_score = 0\n",
    "    for i in range(N): \n",
    "        for j in range(K):\n",
    "             if nn_landmarks_df.loc[i][j+1] == ground_truth_df[\"landmarks\"][i]: \n",
    "                    GAP_score += 1 / K\n",
    "    return GAP_score / N\n",
    "\n",
    "#GAP_3 = GAP(landmarks_df.shape[0], 3, nn_landmarks_3_df, landmarks_df)\n",
    "#print(\"The GAP score for K=5 nearest neighbors is {}\".format(GAP_3))\n",
    "GAP_5_1 = GAP(landmarks_df.shape[0], 5, nn_landmarks_df, landmarks_df)\n",
    "#GAP_5_2 = GAP(landmarks_df.shape[0], 5, nn_landmarks_df, landmarks_more_classes1_df)\n",
    "\n",
    "\n",
    "\n",
    "print(\"The GAP score for K=5 nearest neighbors is {}\".format(GAP_5_1))\n",
    "\n",
    "#GAP_7 = GAP(landmarks_df.shape[0], 7, nn_landmarks_7_df, landmarks_df)\n",
    "#print(\"The GAP score for K=7 nearest neighbors is {}\".format(GAP_7)) \n"
   ]
  }
 ],
 "metadata": {
  "kernelspec": {
   "display_name": "Python 3",
   "language": "python",
   "name": "python3"
  },
  "language_info": {
   "codemirror_mode": {
    "name": "ipython",
    "version": 3
   },
   "file_extension": ".py",
   "mimetype": "text/x-python",
   "name": "python",
   "nbconvert_exporter": "python",
   "pygments_lexer": "ipython3",
   "version": "3.8.2"
  }
 },
 "nbformat": 4,
 "nbformat_minor": 4
}
