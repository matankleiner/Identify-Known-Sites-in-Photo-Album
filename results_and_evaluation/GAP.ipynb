{
 "cells": [
  {
   "cell_type": "markdown",
   "metadata": {},
   "source": [
    "# Evaluation with GAP \n",
    "\n",
    "We'll also evaluate our success with the GAP metric which is the [official metric for the comeptition](https://www.kaggle.com/c/landmark-recognition-2020/overview/evaluation).\n",
    "\n",
    "The GAP metric:  $GAP=\\frac{1}{N} \\sum_{i=1}^{N} P(i)rel(i)  $\n",
    "\n",
    "We'll check our success only on the landmarks and not on the whole dataset. "
   ]
  },
  {
   "cell_type": "code",
   "execution_count": 119,
   "metadata": {},
   "outputs": [],
   "source": [
    "# imports for code \n",
    "import pandas as pd\n",
    "import numpy as np "
   ]
  },
  {
   "cell_type": "code",
   "execution_count": 120,
   "metadata": {},
   "outputs": [],
   "source": [
    "# load the following csv files as dataframe \n",
    "url_train = 'https://raw.githubusercontent.com/matankleiner/Identify-Known-Sites-in-Photo-Album/master/data/train/train.csv' \n",
    "url_test ='https://raw.githubusercontent.com/matankleiner/Identify-Known-Sites-in-Photo-Album/master/data/test/test.csv'\n",
    "url_test_more_classes1 = 'https://raw.githubusercontent.com/matankleiner/Identify-Known-Sites-in-Photo-Album/master/data/test/more_classes/test_more_classes1.csv'\n",
    "url_test_more_classes2 = 'https://raw.githubusercontent.com/matankleiner/Identify-Known-Sites-in-Photo-Album/master/data/test/more_classes/test_more_classes2.csv'\n",
    "url_test_more_classes3 = 'https://raw.githubusercontent.com/matankleiner/Identify-Known-Sites-in-Photo-Album/master/data/test/more_classes/test_more_classes3.csv'\n",
    "url_nn_3 = 'https://raw.githubusercontent.com/matankleiner/Identify-Known-Sites-in-Photo-Album/master/feature_extraction/results_csv/nearest_neighbor_embedded_test_K%3D3_landmarks_only.csv'\n",
    "url_nn_5 = 'https://raw.githubusercontent.com/matankleiner/Identify-Known-Sites-in-Photo-Album/master/feature_extraction/results_csv/nearest_neighbor_embedded_test_K%3D5.csv'\n",
    "url_nn_7 = 'https://raw.githubusercontent.com/matankleiner/Identify-Known-Sites-in-Photo-Album/master/feature_extraction/results_csv/nearest_neighbor_embedded_test_K%3D7_landmarks_only.csv'\n",
    "\n",
    "train_df = pd.read_csv(url_train)\n",
    "test_df = pd.read_csv(url_test) \n",
    "test_more_classes1_df = pd.read_csv(url_test_more_classes1)\n",
    "test_more_classes2_df = pd.read_csv(url_test_more_classes2)\n",
    "test_more_classes3_df = pd.read_csv(url_test_more_classes3)\n",
    "nn_3_df = pd.read_csv(url_nn_3)\n",
    "nn_5_df = pd.read_csv(url_nn_5)\n",
    "nn_7_df = pd.read_csv(url_nn_7)"
   ]
  },
  {
   "cell_type": "code",
   "execution_count": 121,
   "metadata": {},
   "outputs": [],
   "source": [
    "def change_df(df): \n",
    "    \"\"\"\n",
    "    Changing the dataframe so it will be easier to work with. \n",
    "    Param: \n",
    "        df (pd.DataFrame): The dataframe to change \n",
    "    Return: \n",
    "        df (pd.DataFrame): The chnaged dataframe \n",
    "    \"\"\"\n",
    "    df = df.drop(\"Unnamed: 0\", axis=1)\n",
    "    df.insert(0, \"id\", test_df[\"id\"], True) \n",
    "    return df \n",
    "\n",
    "nn_3_df = change_df(nn_3_df)\n",
    "nn_5_df = change_df(nn_5_df)\n",
    "nn_7_df = change_df(nn_7_df)"
   ]
  },
  {
   "cell_type": "code",
   "execution_count": 122,
   "metadata": {},
   "outputs": [],
   "source": [
    "def train_indx_to_class(nn_df, train_df, K):\n",
    "    \"\"\"\n",
    "    The nn_df hold the index of the matching neighbor in the train set, this function replace it with the matching class \n",
    "    Param: \n",
    "        nn_df (DataFrame): The nearest neighbors dataframe\n",
    "        train_df (DataFrame): The train set dataframe\n",
    "        K (int): The number of nearest neighbors \n",
    "    Return: \n",
    "        nn_df (DataFrame): Thenearest neighbors dataframe, each column k [k is in (0,1,2...K-1)] contain the\n",
    "                           class of the (k+1) nearest neighbor\n",
    "    \"\"\"\n",
    "    for k in range(K): \n",
    "        col_to_replace = train_df.loc[nn_df[str(k)]][\"landmark_id\"]\n",
    "        nn_df[str(k)] = col_to_replace.values\n",
    "    \n",
    "    return nn_df \n",
    "\n",
    "nn_3_df = train_indx_to_class(nn_3_df, train_df, 3)\n",
    "nn_5_df = train_indx_to_class(nn_5_df, train_df, 5)\n",
    "nn_7_df = train_indx_to_class(nn_7_df, train_df, 7)"
   ]
  },
  {
   "cell_type": "code",
   "execution_count": 123,
   "metadata": {},
   "outputs": [],
   "source": [
    "# create a series of all the indices where there is a landmark \n",
    "landmark_inidices = test_df['landmarks'] != 0 \n",
    "landmark_inidices = landmark_inidices[landmark_inidices].index\n",
    "\n",
    "# create a smaller dataframe of the test set that made out only of the landmarks \n",
    "landmarks_df = test_df.loc[landmark_inidices]\n",
    "landmarks_df = landmarks_df.reset_index()\n",
    "landmarks_more_classes1_df = test_more_classes1_df.loc[landmark_inidices]\n",
    "landmarks_more_classes1_df = landmarks_more_classes1_df.reset_index()\n",
    "landmarks_more_classes2_df = test_more_classes2_df.loc[landmark_inidices]\n",
    "landmarks_more_classes2_df = landmarks_more_classes2_df.reset_index()\n",
    "landmarks_more_classes3_df = test_more_classes3_df.loc[landmark_inidices]\n",
    "landmarks_more_classes3_df = landmarks_more_classes3_df.reset_index()\n",
    "\n",
    "nn_landmarks_5_df = nn_5_df.loc[landmark_inidices] \n",
    "nn_landmarks_5_df = nn_landmarks_5_df.reset_index()\n",
    "nn_landmarks_5_df = nn_landmarks_5_df.drop(\"index\", axis=1)"
   ]
  },
  {
   "cell_type": "code",
   "execution_count": 124,
   "metadata": {},
   "outputs": [
    {
     "name": "stdout",
     "output_type": "stream",
     "text": [
      "The GAP score for K = 3 nearest neighbors is 0.144.\n",
      "The GAP score for K = 5 nearest neighbors is 0.124.\n",
      "The GAP score for K = 7 nearest neighbors is 0.000.\n"
     ]
    }
   ],
   "source": [
    "def GAP(N, K, nn_landmarks_df, ground_truth_df):\n",
    "    \"\"\"\n",
    "    Calculating the GAP metric \n",
    "    Param: \n",
    "        N (int): Number of values in the test set \n",
    "        K (int): Number of neighbors \n",
    "        nn_ladnamrk_df (DataFrame): A dataframe of the nearest neighbors' class\n",
    "        ground_truth_df (DataFrame): The true class of each item from the test set\n",
    "    Return: \n",
    "        GAP_score (int): The calculated GAP_score \n",
    "    \"\"\"\n",
    "    GAP_score = 0\n",
    "    for i in range(N): \n",
    "        for j in range(K):\n",
    "             if nn_landmarks_df.loc[i][j+1] == ground_truth_df[\"landmarks\"][i]: \n",
    "                    GAP_score += 1 / K\n",
    "    return GAP_score / N\n",
    "\n",
    "N = landmarks_df.shape[0]\n",
    "\n",
    "### K = 3\n",
    "GAP_3K_1 = GAP(N, 3, nn_3_df, landmarks_df)\n",
    "GAP_3K_2 = GAP(N, 3, nn_3_df, landmarks_more_classes1_df)\n",
    "GAP_3K_3 = GAP(N, 3, nn_3_df, landmarks_more_classes2_df)\n",
    "GAP_3K_4 = GAP(N, 3, nn_3_df, landmarks_more_classes3_df)\n",
    "GAP_3K = GAP_3K_1 + GAP_3K_2 + GAP_3K_3 + GAP_3K_4\n",
    "\n",
    "print(\"The GAP score for K = 3 nearest neighbors is {:.3f}.\".format(GAP_3K))\n",
    "\n",
    "### K = 5\n",
    "GAP_5K_1 = GAP(N, 5, nn_landmarks_5_df, landmarks_df)\n",
    "GAP_5K_2 = GAP(N, 5, nn_landmarks_5_df, landmarks_more_classes1_df)\n",
    "GAP_5K_3 = GAP(N, 5, nn_landmarks_5_df, landmarks_more_classes2_df)\n",
    "GAP_5K_4 = GAP(N, 5, nn_landmarks_5_df, landmarks_more_classes3_df)\n",
    "GAP_5K = GAP_5K_1 + GAP_5K_2 + GAP_5K_3 + GAP_5K_4\n",
    "\n",
    "print(\"The GAP score for K = 5 nearest neighbors is {:.3f}.\".format(GAP_5K))\n",
    "\n",
    "### K = 7\n",
    "GAP_7K_1 = GAP(N, 7, nn_7_df, landmarks_df)\n",
    "GAP_7K_2 = GAP(N, 7, nn_7_df, landmarks_more_classes1_df)\n",
    "GAP_7K_3 = GAP(N, 7, nn_7_df, landmarks_more_classes2_df)\n",
    "GAP_7K_4 = GAP(N, 7, nn_7_df, landmarks_more_classes3_df)\n",
    "GAP_7K = GAP_7K_1 + GAP_7K_2 + GAP_7K_3 + GAP_7K_4\n",
    "\n",
    "print(\"The GAP score for K = 7 nearest neighbors is {:.3f}.\".format(GAP_7K))"
   ]
  }
 ],
 "metadata": {
  "kernelspec": {
   "display_name": "Python 3",
   "language": "python",
   "name": "python3"
  },
  "language_info": {
   "codemirror_mode": {
    "name": "ipython",
    "version": 3
   },
   "file_extension": ".py",
   "mimetype": "text/x-python",
   "name": "python",
   "nbconvert_exporter": "python",
   "pygments_lexer": "ipython3",
   "version": "3.8.2"
  }
 },
 "nbformat": 4,
 "nbformat_minor": 4
}
