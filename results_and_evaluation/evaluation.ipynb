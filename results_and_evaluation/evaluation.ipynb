{
 "cells": [
  {
   "cell_type": "markdown",
   "metadata": {},
   "source": [
    "# Evaluation"
   ]
  },
  {
   "cell_type": "code",
   "execution_count": 17,
   "metadata": {},
   "outputs": [],
   "source": [
    "# imports for code \n",
    "import pandas as pd\n",
    "import numpy as np \n",
    "import matplotlib.pyplot as plt\n",
    "from tqdm import tqdm "
   ]
  },
  {
   "cell_type": "code",
   "execution_count": 18,
   "metadata": {},
   "outputs": [],
   "source": [
    "# load the following csv files as dataframe \n",
    "url_test ='https://raw.githubusercontent.com/matankleiner/Identify-Known-Sites-in-Photo-Album/master/data/test/test.csv'\n",
    "url_train = 'https://raw.githubusercontent.com/matankleiner/Identify-Known-Sites-in-Photo-Album/master/data/train/train.csv' \n",
    "url_detctedt_landmarks = 'https://raw.githubusercontent.com/matankleiner/Identify-Known-Sites-in-Photo-Album/master/landmark_classifier/landmarks_csv_files/keep_v3_openimage.csv'\n",
    "url_pred = 'https://raw.githubusercontent.com/matankleiner/Identify-Known-Sites-in-Photo-Album/master/feature_extraction/results_csv/predicted_class_embedded_test.csv'\n",
    "url_dist = 'https://raw.githubusercontent.com/matankleiner/Identify-Known-Sites-in-Photo-Album/master/feature_extraction/results_csv/dist_embedded_test.csv' \n",
    "url_nn = 'https://raw.githubusercontent.com/matankleiner/Identify-Known-Sites-in-Photo-Album/master/feature_extraction/results_csv/nearest_neighbor_embedded_test.csv'\n",
    "\n",
    "test_df = pd.read_csv(url_test) \n",
    "train_df = pd.read_csv(url_train)\n",
    "detctedt_landmarks_df = pd.read_csv(url_detctedt_landmarks)\n",
    "pred_df = pd.read_csv(url_pred)\n",
    "dist_df = pd.read_csv(url_dist)\n",
    "nn_df = pd.read_csv(url_nn)"
   ]
  },
  {
   "cell_type": "code",
   "execution_count": 19,
   "metadata": {},
   "outputs": [],
   "source": [
    "def change_df(df): \n",
    "    \"\"\"\n",
    "    Changing the dataframe so it will be easier to work with. \n",
    "    Param: \n",
    "        df (pd.DataFrame): The dataframe to change \n",
    "    Return: \n",
    "        df (pd.DataFrame): The chnaged dataframe \n",
    "    \"\"\"\n",
    "    df = df.drop(\"Unnamed: 0\", axis=1)\n",
    "    df.insert(0, \"id\", test_df[\"id\"], True) \n",
    "    return df \n",
    "\n",
    "pred_df = change_df(pred_df)\n",
    "pred_df = pred_df.rename(columns={\"0\": \"prediction\"})\n",
    "dist_df = change_df(dist_df)\n",
    "nn_df = change_df(nn_df)"
   ]
  },
  {
   "cell_type": "markdown",
   "metadata": {},
   "source": [
    "### Prediction "
   ]
  },
  {
   "cell_type": "code",
   "execution_count": 20,
   "metadata": {},
   "outputs": [
    {
     "name": "stdout",
     "output_type": "stream",
     "text": [
      "There are 0 correct prediction.\n"
     ]
    }
   ],
   "source": [
    "# check if any of the given prediction is correct\n",
    "pred_series = test_df[\"landmarks\"] == pred_df[\"prediction\"]\n",
    "print (\"There are {} correct prediction.\".format(len(pred_series[pred_series].index)))"
   ]
  },
  {
   "cell_type": "code",
   "execution_count": 48,
   "metadata": {},
   "outputs": [
    {
     "data": {
      "text/plain": [
       "numpy.int64"
      ]
     },
     "execution_count": 48,
     "metadata": {},
     "output_type": "execute_result"
    }
   ],
   "source": [
    "type(pred_df[\"prediction\"][5])"
   ]
  },
  {
   "cell_type": "markdown",
   "metadata": {},
   "source": [
    "text text text "
   ]
  },
  {
   "cell_type": "code",
   "execution_count": 21,
   "metadata": {},
   "outputs": [
    {
     "data": {
      "text/html": [
       "<div>\n",
       "<style scoped>\n",
       "    .dataframe tbody tr th:only-of-type {\n",
       "        vertical-align: middle;\n",
       "    }\n",
       "\n",
       "    .dataframe tbody tr th {\n",
       "        vertical-align: top;\n",
       "    }\n",
       "\n",
       "    .dataframe thead th {\n",
       "        text-align: right;\n",
       "    }\n",
       "</style>\n",
       "<table border=\"1\" class=\"dataframe\">\n",
       "  <thead>\n",
       "    <tr style=\"text-align: right;\">\n",
       "      <th></th>\n",
       "      <th>id</th>\n",
       "      <th>0</th>\n",
       "      <th>1</th>\n",
       "      <th>2</th>\n",
       "      <th>3</th>\n",
       "      <th>4</th>\n",
       "    </tr>\n",
       "  </thead>\n",
       "  <tbody>\n",
       "    <tr>\n",
       "      <th>0</th>\n",
       "      <td>e324e0f3e6d9e504</td>\n",
       "      <td>335980</td>\n",
       "      <td>621323</td>\n",
       "      <td>1078891</td>\n",
       "      <td>723464</td>\n",
       "      <td>1146490</td>\n",
       "    </tr>\n",
       "    <tr>\n",
       "      <th>1</th>\n",
       "      <td>d9e17c5f3e0c47b3</td>\n",
       "      <td>114279</td>\n",
       "      <td>331989</td>\n",
       "      <td>743404</td>\n",
       "      <td>908994</td>\n",
       "      <td>303773</td>\n",
       "    </tr>\n",
       "    <tr>\n",
       "      <th>2</th>\n",
       "      <td>1a748a755ed67512</td>\n",
       "      <td>40077</td>\n",
       "      <td>1274320</td>\n",
       "      <td>1274318</td>\n",
       "      <td>525710</td>\n",
       "      <td>657826</td>\n",
       "    </tr>\n",
       "    <tr>\n",
       "      <th>3</th>\n",
       "      <td>537bf9bdfccdafea</td>\n",
       "      <td>383865</td>\n",
       "      <td>542957</td>\n",
       "      <td>1058800</td>\n",
       "      <td>1234610</td>\n",
       "      <td>1058878</td>\n",
       "    </tr>\n",
       "    <tr>\n",
       "      <th>4</th>\n",
       "      <td>13f4c974274ee08b</td>\n",
       "      <td>1058815</td>\n",
       "      <td>1577594</td>\n",
       "      <td>195691</td>\n",
       "      <td>1459158</td>\n",
       "      <td>1466610</td>\n",
       "    </tr>\n",
       "    <tr>\n",
       "      <th>...</th>\n",
       "      <td>...</td>\n",
       "      <td>...</td>\n",
       "      <td>...</td>\n",
       "      <td>...</td>\n",
       "      <td>...</td>\n",
       "      <td>...</td>\n",
       "    </tr>\n",
       "    <tr>\n",
       "      <th>117222</th>\n",
       "      <td>e351c3e672c25fbd</td>\n",
       "      <td>378345</td>\n",
       "      <td>1481565</td>\n",
       "      <td>184639</td>\n",
       "      <td>184498</td>\n",
       "      <td>442828</td>\n",
       "    </tr>\n",
       "    <tr>\n",
       "      <th>117223</th>\n",
       "      <td>5426472625271a4d</td>\n",
       "      <td>433925</td>\n",
       "      <td>433923</td>\n",
       "      <td>433922</td>\n",
       "      <td>433924</td>\n",
       "      <td>881243</td>\n",
       "    </tr>\n",
       "    <tr>\n",
       "      <th>117224</th>\n",
       "      <td>7b6a585405978398</td>\n",
       "      <td>1328494</td>\n",
       "      <td>871628</td>\n",
       "      <td>1557725</td>\n",
       "      <td>167234</td>\n",
       "      <td>1106573</td>\n",
       "    </tr>\n",
       "    <tr>\n",
       "      <th>117225</th>\n",
       "      <td>d885235ba249cf5d</td>\n",
       "      <td>1259388</td>\n",
       "      <td>1259390</td>\n",
       "      <td>1259420</td>\n",
       "      <td>898605</td>\n",
       "      <td>1058781</td>\n",
       "    </tr>\n",
       "    <tr>\n",
       "      <th>117226</th>\n",
       "      <td>c7f657e8d0f7fafb</td>\n",
       "      <td>1236433</td>\n",
       "      <td>47837</td>\n",
       "      <td>769449</td>\n",
       "      <td>68483</td>\n",
       "      <td>1236104</td>\n",
       "    </tr>\n",
       "  </tbody>\n",
       "</table>\n",
       "<p>117227 rows × 6 columns</p>\n",
       "</div>"
      ],
      "text/plain": [
       "                      id        0        1        2        3        4\n",
       "0       e324e0f3e6d9e504   335980   621323  1078891   723464  1146490\n",
       "1       d9e17c5f3e0c47b3   114279   331989   743404   908994   303773\n",
       "2       1a748a755ed67512    40077  1274320  1274318   525710   657826\n",
       "3       537bf9bdfccdafea   383865   542957  1058800  1234610  1058878\n",
       "4       13f4c974274ee08b  1058815  1577594   195691  1459158  1466610\n",
       "...                  ...      ...      ...      ...      ...      ...\n",
       "117222  e351c3e672c25fbd   378345  1481565   184639   184498   442828\n",
       "117223  5426472625271a4d   433925   433923   433922   433924   881243\n",
       "117224  7b6a585405978398  1328494   871628  1557725   167234  1106573\n",
       "117225  d885235ba249cf5d  1259388  1259390  1259420   898605  1058781\n",
       "117226  c7f657e8d0f7fafb  1236433    47837   769449    68483  1236104\n",
       "\n",
       "[117227 rows x 6 columns]"
      ]
     },
     "execution_count": 21,
     "metadata": {},
     "output_type": "execute_result"
    }
   ],
   "source": [
    "# about nearest neighbor method \n",
    "nn_df"
   ]
  },
  {
   "cell_type": "code",
   "execution_count": 22,
   "metadata": {},
   "outputs": [],
   "source": [
    "# replacing \n",
    "col_to_replace0 = train_df.loc[nn_df[\"0\"]][\"landmark_id\"]\n",
    "nn_df['0'] = col_to_replace0.values\n",
    "col_to_replace1 = train_df.loc[nn_df[\"1\"]][\"landmark_id\"]\n",
    "nn_df['1'] = col_to_replace1.values\n",
    "col_to_replace2 = train_df.loc[nn_df[\"2\"]][\"landmark_id\"]\n",
    "nn_df['2'] = col_to_replace2.values\n",
    "col_to_replace3 = train_df.loc[nn_df[\"3\"]][\"landmark_id\"]\n",
    "nn_df['3'] = col_to_replace3.values\n",
    "col_to_replace4 = train_df.loc[nn_df[\"4\"]][\"landmark_id\"]\n",
    "nn_df['4'] = col_to_replace4.values"
   ]
  },
  {
   "cell_type": "code",
   "execution_count": 23,
   "metadata": {},
   "outputs": [
    {
     "data": {
      "text/html": [
       "<div>\n",
       "<style scoped>\n",
       "    .dataframe tbody tr th:only-of-type {\n",
       "        vertical-align: middle;\n",
       "    }\n",
       "\n",
       "    .dataframe tbody tr th {\n",
       "        vertical-align: top;\n",
       "    }\n",
       "\n",
       "    .dataframe thead th {\n",
       "        text-align: right;\n",
       "    }\n",
       "</style>\n",
       "<table border=\"1\" class=\"dataframe\">\n",
       "  <thead>\n",
       "    <tr style=\"text-align: right;\">\n",
       "      <th></th>\n",
       "      <th>id</th>\n",
       "      <th>0</th>\n",
       "      <th>1</th>\n",
       "      <th>2</th>\n",
       "      <th>3</th>\n",
       "      <th>4</th>\n",
       "    </tr>\n",
       "  </thead>\n",
       "  <tbody>\n",
       "    <tr>\n",
       "      <th>0</th>\n",
       "      <td>e324e0f3e6d9e504</td>\n",
       "      <td>42422</td>\n",
       "      <td>79959</td>\n",
       "      <td>138982</td>\n",
       "      <td>93154</td>\n",
       "      <td>147263</td>\n",
       "    </tr>\n",
       "    <tr>\n",
       "      <th>1</th>\n",
       "      <td>d9e17c5f3e0c47b3</td>\n",
       "      <td>14968</td>\n",
       "      <td>41941</td>\n",
       "      <td>95885</td>\n",
       "      <td>117418</td>\n",
       "      <td>38746</td>\n",
       "    </tr>\n",
       "    <tr>\n",
       "      <th>2</th>\n",
       "      <td>1a748a755ed67512</td>\n",
       "      <td>5156</td>\n",
       "      <td>164193</td>\n",
       "      <td>164193</td>\n",
       "      <td>67109</td>\n",
       "      <td>84309</td>\n",
       "    </tr>\n",
       "    <tr>\n",
       "      <th>3</th>\n",
       "      <td>537bf9bdfccdafea</td>\n",
       "      <td>48328</td>\n",
       "      <td>69301</td>\n",
       "      <td>136675</td>\n",
       "      <td>158991</td>\n",
       "      <td>136675</td>\n",
       "    </tr>\n",
       "    <tr>\n",
       "      <th>4</th>\n",
       "      <td>13f4c974274ee08b</td>\n",
       "      <td>136675</td>\n",
       "      <td>202793</td>\n",
       "      <td>25369</td>\n",
       "      <td>187755</td>\n",
       "      <td>188686</td>\n",
       "    </tr>\n",
       "    <tr>\n",
       "      <th>...</th>\n",
       "      <td>...</td>\n",
       "      <td>...</td>\n",
       "      <td>...</td>\n",
       "      <td>...</td>\n",
       "      <td>...</td>\n",
       "      <td>...</td>\n",
       "    </tr>\n",
       "    <tr>\n",
       "      <th>117222</th>\n",
       "      <td>e351c3e672c25fbd</td>\n",
       "      <td>47663</td>\n",
       "      <td>190441</td>\n",
       "      <td>23777</td>\n",
       "      <td>23777</td>\n",
       "      <td>56062</td>\n",
       "    </tr>\n",
       "    <tr>\n",
       "      <th>117223</th>\n",
       "      <td>5426472625271a4d</td>\n",
       "      <td>54785</td>\n",
       "      <td>54785</td>\n",
       "      <td>54785</td>\n",
       "      <td>54785</td>\n",
       "      <td>113750</td>\n",
       "    </tr>\n",
       "    <tr>\n",
       "      <th>117224</th>\n",
       "      <td>7b6a585405978398</td>\n",
       "      <td>171111</td>\n",
       "      <td>112512</td>\n",
       "      <td>200128</td>\n",
       "      <td>21500</td>\n",
       "      <td>142109</td>\n",
       "    </tr>\n",
       "    <tr>\n",
       "      <th>117225</th>\n",
       "      <td>d885235ba249cf5d</td>\n",
       "      <td>162403</td>\n",
       "      <td>162403</td>\n",
       "      <td>162403</td>\n",
       "      <td>115930</td>\n",
       "      <td>136675</td>\n",
       "    </tr>\n",
       "    <tr>\n",
       "      <th>117226</th>\n",
       "      <td>c7f657e8d0f7fafb</td>\n",
       "      <td>159334</td>\n",
       "      <td>6090</td>\n",
       "      <td>99323</td>\n",
       "      <td>8834</td>\n",
       "      <td>159247</td>\n",
       "    </tr>\n",
       "  </tbody>\n",
       "</table>\n",
       "<p>117227 rows × 6 columns</p>\n",
       "</div>"
      ],
      "text/plain": [
       "                      id       0       1       2       3       4\n",
       "0       e324e0f3e6d9e504   42422   79959  138982   93154  147263\n",
       "1       d9e17c5f3e0c47b3   14968   41941   95885  117418   38746\n",
       "2       1a748a755ed67512    5156  164193  164193   67109   84309\n",
       "3       537bf9bdfccdafea   48328   69301  136675  158991  136675\n",
       "4       13f4c974274ee08b  136675  202793   25369  187755  188686\n",
       "...                  ...     ...     ...     ...     ...     ...\n",
       "117222  e351c3e672c25fbd   47663  190441   23777   23777   56062\n",
       "117223  5426472625271a4d   54785   54785   54785   54785  113750\n",
       "117224  7b6a585405978398  171111  112512  200128   21500  142109\n",
       "117225  d885235ba249cf5d  162403  162403  162403  115930  136675\n",
       "117226  c7f657e8d0f7fafb  159334    6090   99323    8834  159247\n",
       "\n",
       "[117227 rows x 6 columns]"
      ]
     },
     "execution_count": 23,
     "metadata": {},
     "output_type": "execute_result"
    }
   ],
   "source": [
    "nn_df"
   ]
  },
  {
   "cell_type": "code",
   "execution_count": 54,
   "metadata": {},
   "outputs": [
    {
     "data": {
      "text/plain": [
       "0         False\n",
       "1         False\n",
       "2         False\n",
       "3         False\n",
       "4         False\n",
       "          ...  \n",
       "117222    False\n",
       "117223    False\n",
       "117224    False\n",
       "117225    False\n",
       "117226    False\n",
       "Name: landmarks, Length: 117227, dtype: bool"
      ]
     },
     "execution_count": 54,
     "metadata": {},
     "output_type": "execute_result"
    }
   ],
   "source": [
    "first_neighbor_series = test_df[\"landmarks\"] == str(nn_df[\"1\"])\n",
    "first_neighbor_series"
   ]
  },
  {
   "cell_type": "code",
   "execution_count": 85,
   "metadata": {},
   "outputs": [],
   "source": [
    "test_df.to_csv(\"test111.csv\")"
   ]
  },
  {
   "cell_type": "code",
   "execution_count": 66,
   "metadata": {},
   "outputs": [
    {
     "ename": "ValueError",
     "evalue": "invalid literal for int() with base 10: '[114046]'",
     "output_type": "error",
     "traceback": [
      "\u001b[1;31m---------------------------------------------------------------------------\u001b[0m",
      "\u001b[1;31mValueError\u001b[0m                                Traceback (most recent call last)",
      "\u001b[1;32m<ipython-input-66-abb199cd3dd7>\u001b[0m in \u001b[0;36m<module>\u001b[1;34m\u001b[0m\n\u001b[0;32m      1\u001b[0m \u001b[1;32mfor\u001b[0m \u001b[0mi\u001b[0m \u001b[1;32min\u001b[0m \u001b[0mrange\u001b[0m\u001b[1;33m(\u001b[0m\u001b[0mtest_df\u001b[0m\u001b[1;33m.\u001b[0m\u001b[0mshape\u001b[0m\u001b[1;33m[\u001b[0m\u001b[1;36m0\u001b[0m\u001b[1;33m]\u001b[0m\u001b[1;33m)\u001b[0m\u001b[1;33m:\u001b[0m\u001b[1;33m\u001b[0m\u001b[1;33m\u001b[0m\u001b[0m\n\u001b[0;32m      2\u001b[0m     \u001b[1;32mif\u001b[0m \u001b[0misinstance\u001b[0m\u001b[1;33m(\u001b[0m\u001b[0mtest_df\u001b[0m\u001b[1;33m[\u001b[0m\u001b[1;34m\"landmarks\"\u001b[0m\u001b[1;33m]\u001b[0m\u001b[1;33m[\u001b[0m\u001b[0mi\u001b[0m\u001b[1;33m]\u001b[0m\u001b[1;33m,\u001b[0m \u001b[0mstr\u001b[0m\u001b[1;33m)\u001b[0m\u001b[1;33m:\u001b[0m\u001b[1;33m\u001b[0m\u001b[1;33m\u001b[0m\u001b[0m\n\u001b[1;32m----> 3\u001b[1;33m         \u001b[0mnp\u001b[0m\u001b[1;33m.\u001b[0m\u001b[0mint64\u001b[0m\u001b[1;33m(\u001b[0m\u001b[0mtest_df\u001b[0m\u001b[1;33m[\u001b[0m\u001b[1;34m\"landmarks\"\u001b[0m\u001b[1;33m]\u001b[0m\u001b[1;33m[\u001b[0m\u001b[0mi\u001b[0m\u001b[1;33m]\u001b[0m\u001b[1;33m)\u001b[0m\u001b[1;33m\u001b[0m\u001b[1;33m\u001b[0m\u001b[0m\n\u001b[0m\u001b[0;32m      4\u001b[0m     \u001b[1;32mif\u001b[0m \u001b[0misinstance\u001b[0m\u001b[1;33m(\u001b[0m\u001b[0mtest_df\u001b[0m\u001b[1;33m[\u001b[0m\u001b[1;34m\"landmarks\"\u001b[0m\u001b[1;33m]\u001b[0m\u001b[1;33m[\u001b[0m\u001b[0mi\u001b[0m\u001b[1;33m]\u001b[0m\u001b[1;33m,\u001b[0m \u001b[0mlist\u001b[0m\u001b[1;33m)\u001b[0m\u001b[1;33m:\u001b[0m\u001b[1;33m\u001b[0m\u001b[1;33m\u001b[0m\u001b[0m\n\u001b[0;32m      5\u001b[0m        \u001b[0mtest_df\u001b[0m\u001b[1;33m[\u001b[0m\u001b[1;34m\"landmarks\"\u001b[0m\u001b[1;33m]\u001b[0m\u001b[1;33m[\u001b[0m\u001b[0mi\u001b[0m\u001b[1;33m]\u001b[0m \u001b[1;33m=\u001b[0m \u001b[0mnp\u001b[0m\u001b[1;33m.\u001b[0m\u001b[0mint64\u001b[0m\u001b[1;33m(\u001b[0m\u001b[0mtest_df\u001b[0m\u001b[1;33m[\u001b[0m\u001b[1;34m\"landmarks\"\u001b[0m\u001b[1;33m]\u001b[0m\u001b[1;33m[\u001b[0m\u001b[0mi\u001b[0m\u001b[1;33m]\u001b[0m\u001b[1;33m[\u001b[0m\u001b[1;36m0\u001b[0m\u001b[1;33m]\u001b[0m\u001b[1;33m)\u001b[0m\u001b[1;33m\u001b[0m\u001b[1;33m\u001b[0m\u001b[0m\n",
      "\u001b[1;31mValueError\u001b[0m: invalid literal for int() with base 10: '[114046]'"
     ]
    }
   ],
   "source": [
    "for i in range(test_df.shape[0]): \n",
    "    if isinstance(test_df[\"landmarks\"][i], str):\n",
    "        np.int64(test_df[\"landmarks\"][i])\n",
    "    if isinstance(test_df[\"landmarks\"][i], list): \n",
    "       test_df[\"landmarks\"][i] = np.int64(test_df[\"landmarks\"][i][0])  \n",
    "        "
   ]
  }
 ],
 "metadata": {
  "kernelspec": {
   "display_name": "Python 3",
   "language": "python",
   "name": "python3"
  },
  "language_info": {
   "codemirror_mode": {
    "name": "ipython",
    "version": 3
   },
   "file_extension": ".py",
   "mimetype": "text/x-python",
   "name": "python",
   "nbconvert_exporter": "python",
   "pygments_lexer": "ipython3",
   "version": "3.8.2"
  }
 },
 "nbformat": 4,
 "nbformat_minor": 4
}
